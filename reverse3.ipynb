{
 "cells": [
  {
   "cell_type": "markdown",
   "id": "5e49fea2",
   "metadata": {},
   "source": [
    "# List-1 > reverse3"
   ]
  },
  {
   "cell_type": "markdown",
   "id": "5328bab2",
   "metadata": {},
   "source": [
    "Given an array of ints length 3, return a new array with the elements in reverse order, so {1, 2, 3} becomes {3, 2, 1}.\n",
    "\n",
    "\n",
    "reverse3([1, 2, 3]) → [3, 2, 1]\n",
    "\n",
    "reverse3([5, 11, 9]) → [9, 11, 5]\n",
    "\n",
    "reverse3([7, 0, 0]) → [0, 0, 7]"
   ]
  },
  {
   "cell_type": "code",
   "execution_count": null,
   "id": "a596f7d6",
   "metadata": {},
   "outputs": [],
   "source": [
    "def reverse3(nums):\n",
    "  return nums[::-1]"
   ]
  }
 ],
 "metadata": {
  "kernelspec": {
   "display_name": "Python 3 (ipykernel)",
   "language": "python",
   "name": "python3"
  },
  "language_info": {
   "codemirror_mode": {
    "name": "ipython",
    "version": 3
   },
   "file_extension": ".py",
   "mimetype": "text/x-python",
   "name": "python",
   "nbconvert_exporter": "python",
   "pygments_lexer": "ipython3",
   "version": "3.9.12"
  }
 },
 "nbformat": 4,
 "nbformat_minor": 5
}
